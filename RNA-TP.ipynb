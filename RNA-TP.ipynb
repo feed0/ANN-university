{
 "cells": [
  {
   "cell_type": "markdown",
   "metadata": {},
   "source": [
    "# `Redes Neurais Artificiais` (RNA)\n",
    "\n",
    "### Trabalho Prático - Entrega 25/11/2024 até 23:55.\n",
    "\n",
    "### Dom Helder Escola Superior - 2024-2\n",
    "\n",
    "#### Prof. Dr. Marcos W. Rodrigues - marcos.rodrigues@academico.domhelder.edu.br\n",
    "\n",
    "---\n",
    "\n",
    "### Instruções para envio do trabalho:\n",
    "* Este trabalho prático deve ser realizado com no máximo 03 (três) integrantes.\n",
    "* Implementar as seguintes redes neurais: MLP, SOM, RNN, SVM e CNN.\n",
    "* Faça o download deste arquivo no formato `ipynb` em uma pasta, por exemplo, `Donwloads` ou `Meus Documentos`.\n",
    "* Utilize a linguagem de programação Python, e a interface de sua preferência, como VSCode, Microsoft Colab, PyCharm, Spyder, etc.\n",
    "* Salve/imprima este arquivo (.ipynb) no formato PDF (Microsoft Print to PDF), também na pasta `Donwloads` ou `Meus Documentos`, como preferir.\n",
    "* Compacte ambos os arquivos `ipynb` e `pdf` em um único arquivo `ZIP` ou `RAR`, e nomeie o aquivo como: `RNA_Aluno1_Aluno2_Aluno3.zip`.\n",
    "* Envie o arquivo `ZIP`, recém criado, no ambiente `Moodle`, acessando a guia `Avaliações Múltiplas`.\n",
    "\n",
    "---"
   ]
  },
  {
   "cell_type": "markdown",
   "metadata": {},
   "source": [
    "#### <a id=\"0\">RA/Aluno(a) 1: ________________________________________________</a>\n",
    "#### <a id=\"0\">RA/Aluno(a) 2: ________________________________________________</a>\n",
    "#### <a id=\"0\">RA/Aluno(a) 3: ________________________________________________</a>"
   ]
  },
  {
   "cell_type": "markdown",
   "metadata": {},
   "source": [
    "#### Bom Trabalho!\n",
    "---\n",
    "---"
   ]
  },
  {
   "cell_type": "markdown",
   "metadata": {},
   "source": [
    "## Etapa 01 - Multi-Layer Perceptron\n",
    "\n",
    "    - MLP: Rede Multi-Layer Perceptron"
   ]
  },
  {
   "cell_type": "markdown",
   "metadata": {},
   "source": [
    "### Instruções:\n",
    "\n",
    "1. Acesse a documentação do Multi-Layer Perceptron via link: \n",
    "    * https://scikit-learn.org/stable/modules/generated/sklearn.neural_network.MLPClassifier.html\n",
    "2. Estude os seguintes parâmetros:\n",
    "    * 'activation' : Função de ativação para a camada oculta ({'identity', 'logistic', 'tanh', 'relu'}).\n",
    "    * 'solver' : O solucionador para otimização de peso {'lbfgs', 'sgd', 'adam'}. São métodos para a minimização de erros pela descida do gradiente.\n",
    "    * 'learning_rate_init' : A taxa de aprendizagem controla o tamanho do passo na atualização dos pesos. Usado apenas quando solver='sgd' ou 'adam'.\n",
    "    * 'max_iter' : Número máximo de iterações. O solucionador itera até a convergência (determinada por 'tol') ou este número de iterações (epochs).\n",
    "    * 'tol' : Tolerância para a otimização.\n",
    "    * 'momentum' : Momento para atualização de descida gradiente. Deve estar entre 0 e 1. Usado apenas quando solucionador='sgd'.\n",
    "    * 'Shuffle' : Se as amostras devem ser embaralhadas em cada iteração. Usado apenas quando solucionador='sgd' ou 'adam'.\n",
    "    * 'random_state' : Tornar reproduzível a geração de números aleatórios para inicialização de pesos e polarizações para treino e teste.\n",
    "\n",
    "### Questões que devem ser respondidas:\n",
    "\n",
    "- Q1. [20%] Visando melhorar a resposta (predição) da MLP, faça combinações sistêmicas entre os parâmetros da rede neural, reajustando o `activation`, `solver`, `learning_rate`, `max_iter`, `tol`, etc.\n",
    "- Q2. [20%] Ao realizar predições, crie um código/função mapeando a resposta numérica para a resposta de uma das três classes {0:Setosa, 1:Versicolour, 2:Virginica}.\n",
    "- Q3. [20%] Insira, pelo menos, `10` vetores com valores de entradas `distintos` para que a MLP realize predições dos novos valores, retornando a classe de cada vetor de entrada.\n",
    "- Q4. [20%] Separe o dataset IRIS, o qual contém 150 registros, em subconjuntos de treino e teste, usando as proporções 80~20 (80% de treino e 20% de teste) e 70~30, respectivamente.\n",
    "- Q5. [20%] Para cada subconjunto de treino e teste, explicite as métricas de avaliação como os valores de `precision`, `recall`, `f-measure`. "
   ]
  },
  {
   "cell_type": "markdown",
   "metadata": {},
   "source": [
    "---"
   ]
  },
  {
   "cell_type": "markdown",
   "metadata": {},
   "source": [
    "    Base de Dados\n",
    "\n",
    "Repositório UCI - https://archive.ics.uci.edu/\n",
    "\n",
    "Dataset: https://archive.ics.uci.edu/dataset/53/iris\n",
    "\n",
    "    Descrição das variáveis:\n",
    "\n",
    "    - Variáveis      Papel     Tipo         Values\n",
    "    - sepal length   Feature   Continuous\n",
    "    - sepal width    Feature   Continuous\n",
    "    - petal length   Feature   Continuous\n",
    "    - petal width    Feature   Continuous\n",
    "    - class\t         Target    Categorical  {Setosa; Versicolour; Virginica}"
   ]
  },
  {
   "cell_type": "markdown",
   "metadata": {},
   "source": [
    "---"
   ]
  },
  {
   "cell_type": "markdown",
   "metadata": {},
   "source": [
    "    Bibliotecas"
   ]
  },
  {
   "cell_type": "code",
   "execution_count": null,
   "metadata": {},
   "outputs": [],
   "source": [
    "%pip install -U scikit-learn\n",
    "\n",
    "# from sklearn import datasets\n",
    "# import pandas as pd\n",
    "# from sklearn.neural_network import MLPClassifier\n",
    "# from sklearn.model_selection import GridSearchCV, train_test_split\n",
    "# from sklearn.metrics import precision_score, recall_score, f1_score\n",
    "# from sklearn.metrics import classification_report\n",
    "# import matplotlib.pyplot as plt"
   ]
  },
  {
   "cell_type": "markdown",
   "metadata": {},
   "source": [
    "    Definindo a base de dados (dataset) IRIS"
   ]
  },
  {
   "cell_type": "code",
   "execution_count": null,
   "metadata": {},
   "outputs": [],
   "source": [
    "from sklearn import datasets\n",
    "\n",
    "iris = datasets.load_iris()\n",
    "iris"
   ]
  },
  {
   "cell_type": "markdown",
   "metadata": {},
   "source": [
    "    Atribuindo o dataset para as entradas e saídas"
   ]
  },
  {
   "cell_type": "code",
   "execution_count": null,
   "metadata": {},
   "outputs": [],
   "source": [
    "inputs  = iris.data\n",
    "print(\"Entradas: \", inputs.shape)\n",
    "outputs = iris.target\n",
    "print(\"Saídas: \", outputs.shape)"
   ]
  },
  {
   "cell_type": "markdown",
   "metadata": {},
   "source": [
    "    Criando a RNA Multi-Layer Perceptron"
   ]
  },
  {
   "cell_type": "code",
   "execution_count": null,
   "metadata": {},
   "outputs": [],
   "source": [
    "from sklearn.neural_network import MLPClassifier # Multi-Layer Perceptron"
   ]
  },
  {
   "cell_type": "code",
   "execution_count": null,
   "metadata": {},
   "outputs": [],
   "source": [
    "# Código..."
   ]
  },
  {
   "cell_type": "markdown",
   "metadata": {},
   "source": [
    "    Treinamento da MLP"
   ]
  },
  {
   "cell_type": "code",
   "execution_count": null,
   "metadata": {},
   "outputs": [],
   "source": [
    "# Código..."
   ]
  },
  {
   "cell_type": "markdown",
   "metadata": {},
   "source": [
    "    Realizar previsões pela MLP treinada"
   ]
  },
  {
   "cell_type": "code",
   "execution_count": null,
   "metadata": {},
   "outputs": [],
   "source": [
    "# Código...\n",
    "\n",
    "# Ajuste o código para que a resposta seja uma das três classes {Setosa, Versicolour, Virginica}, e não apenas os números das classes."
   ]
  },
  {
   "cell_type": "markdown",
   "metadata": {},
   "source": [
    "    Mapeamento de classes"
   ]
  },
  {
   "cell_type": "code",
   "execution_count": null,
   "metadata": {},
   "outputs": [],
   "source": [
    "# Função para converter as classes dos iris\n",
    "\n",
    "# Código..."
   ]
  },
  {
   "cell_type": "markdown",
   "metadata": {},
   "source": [
    "    Divisão da base de dados: 80/20 e 70/30"
   ]
  },
  {
   "cell_type": "code",
   "execution_count": null,
   "metadata": {},
   "outputs": [],
   "source": [
    "from sklearn.model_selection import train_test_split, GridSearchCV\n",
    "\n",
    "# Dividindo o conjunto de dados em treino e teste com uma proporção de 80-20\n",
    "\n",
    "# Código...\n",
    "\n",
    "# Dividindo o conjunto de dados em treino e teste com uma proporção de 70-30\n",
    "\n",
    "# Código..."
   ]
  },
  {
   "cell_type": "code",
   "execution_count": null,
   "metadata": {},
   "outputs": [],
   "source": [
    "# Usando o Grid-search com as bases de dados 80/20 e 70/30\n",
    "\n",
    "# Código..."
   ]
  },
  {
   "cell_type": "markdown",
   "metadata": {},
   "source": [
    "---\n",
    "---"
   ]
  },
  {
   "cell_type": "markdown",
   "metadata": {},
   "source": [
    "## Etapa 02 - SOM e RNN\n",
    "\n",
    "    - SOM: Mapa Auto-Organizável\n",
    "    - RNN: Rede Neural Recorrente"
   ]
  },
  {
   "cell_type": "markdown",
   "metadata": {},
   "source": [
    "### Instruções:\n",
    "\n",
    "1. Deverá ser implementada as seguintes Redes Neurais Artificiais:\n",
    "    * `SOM` (_Self-Organizing Maps_), entre as bibliotecas `pymvpa` ou `pypi`, escolha apenas uma para opção implementar:\n",
    "        - http://www.pymvpa.org/examples/som.html\n",
    "        `ou`\n",
    "        - https://pypi.org/project/MiniSom/\n",
    "    * `RNN` (_Recurrent Neural Network_), entre as bibliotecas `tensorfow` ou `keras`, escolha apenas uma opção para implementar:\n",
    "        - Tensorflow: https://www.tensorflow.org/guide/keras/working_with_rnns\n",
    "        `ou`\n",
    "        - Keras: https://keras.io/api/layers/recurrent_layers/ (SimpleRNN layer)"
   ]
  },
  {
   "cell_type": "markdown",
   "metadata": {},
   "source": [
    "---"
   ]
  },
  {
   "cell_type": "markdown",
   "metadata": {},
   "source": [
    "    Base de Dados\n",
    "\n",
    "- Utilize a base de dados do repositório Scikit-learn - https://scikit-learn.org/stable/datasets/\n",
    "- Selecione o datase de `Diabetes`: https://scikit-learn.org/stable/datasets/toy_dataset.html#diabetes-dataset\n",
    "    - Dataset Characteristics: _Multivariate_\n",
    "    - Associated Tasks: _Classification_, _Regression_\n",
    "    - Feature Type: _Real_\n",
    "    - #Instances: _442_\n",
    "    - #Features: _10_\n",
    "    - #Target: _1_\n",
    "\n",
    "    ##### Dataset de Diabetes:\n",
    "\n",
    "        - Cod  Col  Atributos                                       Papel     TipoVar       Valores\n",
    "        - age  age  age in years                                    Feature   Continuous\n",
    "        - sex  sex                                                  Feature   Continuous\n",
    "        - bmi  bmi  body mass index                                 Feature   Continuous\n",
    "        - map  bp  average blood pressure                           Feature   Continuous\n",
    "        - tc   s1  tc, total serum cholesterol                      Feature   Continuous\n",
    "        - ldl  s2  ldl, low-density lipoproteins                    Feature   Continuous\n",
    "        - hdl  s3  hdl, high-density lipoproteins                   Feature   Continuous\n",
    "        - tch  s4  tch, total cholesterol / HDL                     Feature   Continuous\n",
    "        - ltg  s5  ltg, possibly log of serum triglycerides level   Feature   Continuous\n",
    "        - glu  s6  glu, blood sugar level                           Feature   Continuous\n",
    "        - y     y  disease progression                              Target    Continuous    [25.0 ~ 346.0]"
   ]
  },
  {
   "cell_type": "markdown",
   "metadata": {},
   "source": [
    "---"
   ]
  },
  {
   "cell_type": "markdown",
   "metadata": {},
   "source": [
    "    Bibliotecas"
   ]
  },
  {
   "cell_type": "code",
   "execution_count": null,
   "metadata": {},
   "outputs": [],
   "source": [
    "# %pip install -U scikit-learn\n",
    "\n",
    "# from sklearn import datasets\n",
    "# import pandas as pd\n",
    "# import numpy as np\n",
    "\n",
    "# from sklearn.model_selection import GridSearchCV, train_test_split\n",
    "# from sklearn.metrics import precision_score, recall_score, f1_score\n",
    "# from sklearn.metrics import classification_report\n",
    "\n",
    "# import matplotlib.pyplot as plt"
   ]
  },
  {
   "cell_type": "markdown",
   "metadata": {},
   "source": [
    "---"
   ]
  },
  {
   "cell_type": "markdown",
   "metadata": {},
   "source": [
    "    Definindo o dataset DIABETES ou o dataset do tema do TCC"
   ]
  },
  {
   "cell_type": "code",
   "execution_count": null,
   "metadata": {},
   "outputs": [],
   "source": [
    "from sklearn import datasets\n",
    "\n",
    "df = datasets.load_diabetes()\n",
    "df"
   ]
  },
  {
   "cell_type": "markdown",
   "metadata": {},
   "source": [
    "    Atribuindo o dataset para as entradas e saídas"
   ]
  },
  {
   "cell_type": "code",
   "execution_count": null,
   "metadata": {},
   "outputs": [],
   "source": [
    "print(\"Atributos: \", df.feature_names)\n",
    "inputs  = df.data\n",
    "print(\"Entradas: \", inputs.shape)\n",
    "outputs = df.target\n",
    "print(\"Saídas: \", outputs.shape)"
   ]
  },
  {
   "cell_type": "markdown",
   "metadata": {},
   "source": [
    "---"
   ]
  },
  {
   "cell_type": "markdown",
   "metadata": {},
   "source": [
    "    SOM (_Self-Organizing Maps_)"
   ]
  },
  {
   "cell_type": "code",
   "execution_count": null,
   "metadata": {},
   "outputs": [],
   "source": [
    "from mvpa2.suite import *\n",
    "pip install minisom\n",
    "from minisom import MiniSom"
   ]
  },
  {
   "cell_type": "code",
   "execution_count": null,
   "metadata": {},
   "outputs": [],
   "source": [
    "# Código..."
   ]
  },
  {
   "cell_type": "markdown",
   "metadata": {},
   "source": [
    "---"
   ]
  },
  {
   "cell_type": "markdown",
   "metadata": {},
   "source": [
    "    RNN (_Recurrent Neural Network_)"
   ]
  },
  {
   "cell_type": "code",
   "execution_count": 2,
   "metadata": {},
   "outputs": [],
   "source": [
    "import tensorflow as tf\n",
    "import keras\n",
    "from keras import layers"
   ]
  },
  {
   "cell_type": "code",
   "execution_count": null,
   "metadata": {},
   "outputs": [],
   "source": [
    "# Código..."
   ]
  },
  {
   "cell_type": "markdown",
   "metadata": {},
   "source": [
    "---\n",
    "---"
   ]
  },
  {
   "cell_type": "markdown",
   "metadata": {},
   "source": [
    "## Etapa 03 - SVM (SVC e SVR) e CNN\n",
    "\n",
    "    - SVM: Máquina de Vetor de Suporte\n",
    "    - CNN: Rede Neural Convolucional"
   ]
  },
  {
   "cell_type": "markdown",
   "metadata": {},
   "source": [
    "### Instruções:\n",
    "\n",
    "1. Deverá ser implementada as seguintes Redes Neurais Artificiais:\n",
    "    * `SVM Classificador` (_Support Vector Machine : Regression_), utilizando a biblioteca `sklearn`, svm.SVC:\n",
    "        - https://scikit-learn.org/stable/modules/generated/sklearn.svm.SVC.html#sklearn.svm.SVC\n",
    "    * `SVM Regressor` (_Support Vector Machine : Classification_), utilizando a biblioteca `sklearn`, svm.SVR:\n",
    "        - https://scikit-learn.org/stable/modules/generated/sklearn.svm.SVR.html#sklearn.svm.SVR\n",
    "    * `CNN` (_Convolutional Neural Networks_), utilizando a biblioteca `tensorflow` com a base de dados `CIFAR10` utilizada no exemplo do link:\n",
    "        - https://www.tensorflow.org/tutorials/images/cnn?hl=pt-br"
   ]
  },
  {
   "cell_type": "markdown",
   "metadata": {},
   "source": [
    "---"
   ]
  },
  {
   "cell_type": "markdown",
   "metadata": {},
   "source": [
    "    Base de Dados\n",
    "\n",
    "- Utilize a base de dados do repositório Scikit-learn - https://scikit-learn.org/stable/datasets/\n",
    "- Selecione o datase de `Diabetes`: https://scikit-learn.org/stable/datasets/toy_dataset.html#diabetes-dataset\n",
    "    - Dataset Characteristics: _Multivariate_\n",
    "    - Associated Tasks: _Classification_, _Regression_\n",
    "    - Feature Type: _Real_\n",
    "    - #Instances: _442_\n",
    "    - #Features: _10_\n",
    "    - #Target: _1_\n",
    "\n",
    "    ##### Dataset de Diabetes:\n",
    "\n",
    "        - Cod  Col  Atributos                                       Papel     TipoVar       Valores\n",
    "        - age  age  age in years                                    Feature   Continuous\n",
    "        - sex  sex                                                  Feature   Continuous\n",
    "        - bmi  bmi  body mass index                                 Feature   Continuous\n",
    "        - map  bp  average blood pressure                           Feature   Continuous\n",
    "        - tc   s1  tc, total serum cholesterol                      Feature   Continuous\n",
    "        - ldl  s2  ldl, low-density lipoproteins                    Feature   Continuous\n",
    "        - hdl  s3  hdl, high-density lipoproteins                   Feature   Continuous\n",
    "        - tch  s4  tch, total cholesterol / HDL                     Feature   Continuous\n",
    "        - ltg  s5  ltg, possibly log of serum triglycerides level   Feature   Continuous\n",
    "        - glu  s6  glu, blood sugar level                           Feature   Continuous\n",
    "        - y     y  disease progression                              Target    Continuous    [25.0 ~ 346.0]"
   ]
  },
  {
   "cell_type": "markdown",
   "metadata": {},
   "source": [
    "---"
   ]
  },
  {
   "cell_type": "markdown",
   "metadata": {},
   "source": [
    "    Bibliotecas"
   ]
  },
  {
   "cell_type": "code",
   "execution_count": null,
   "metadata": {},
   "outputs": [],
   "source": [
    "# %pip install -U scikit-learn\n",
    "\n",
    "# from sklearn import datasets\n",
    "# import pandas as pd\n",
    "# import numpy as np\n",
    "\n",
    "# from sklearn.model_selection import GridSearchCV, train_test_split\n",
    "# from sklearn.metrics import precision_score, recall_score, f1_score\n",
    "# from sklearn.metrics import classification_report\n",
    "\n",
    "# from sklearn import svm\n",
    "\n",
    "# import tensorflow as tf\n",
    "# from tensorflow.keras import datasets, layers, models\n",
    "\n",
    "# import matplotlib.pyplot as plt"
   ]
  },
  {
   "cell_type": "markdown",
   "metadata": {},
   "source": [
    "---"
   ]
  },
  {
   "cell_type": "markdown",
   "metadata": {},
   "source": [
    "    Definindo o dataset DIABETES ou o dataset do tema do TCC"
   ]
  },
  {
   "cell_type": "code",
   "execution_count": null,
   "metadata": {},
   "outputs": [],
   "source": [
    "from sklearn import datasets\n",
    "\n",
    "df = datasets.load_diabetes()\n",
    "df"
   ]
  },
  {
   "cell_type": "markdown",
   "metadata": {},
   "source": [
    "    Atribuindo o dataset para as entradas e saídas"
   ]
  },
  {
   "cell_type": "code",
   "execution_count": null,
   "metadata": {},
   "outputs": [],
   "source": [
    "print(\"Atributos: \", df.feature_names)\n",
    "inputs  = df.data\n",
    "print(\"Entradas: \", inputs.shape)\n",
    "outputs = df.target\n",
    "print(\"Saídas: \", outputs.shape)"
   ]
  },
  {
   "cell_type": "markdown",
   "metadata": {},
   "source": [
    "---"
   ]
  },
  {
   "cell_type": "markdown",
   "metadata": {},
   "source": [
    "    SVM Classificador (_SVC_)"
   ]
  },
  {
   "cell_type": "code",
   "execution_count": null,
   "metadata": {},
   "outputs": [],
   "source": [
    "from scipy.interpolate import Rbf\n",
    "from idaes.surrogates.pysmo import radial_basis_function"
   ]
  },
  {
   "cell_type": "code",
   "execution_count": null,
   "metadata": {},
   "outputs": [],
   "source": [
    "# Códigos..."
   ]
  },
  {
   "cell_type": "markdown",
   "metadata": {},
   "source": [
    "---"
   ]
  },
  {
   "cell_type": "markdown",
   "metadata": {},
   "source": [
    "    SVM Regressor (_SVR_)"
   ]
  },
  {
   "cell_type": "code",
   "execution_count": null,
   "metadata": {},
   "outputs": [],
   "source": [
    "from mvpa2.suite import *"
   ]
  },
  {
   "cell_type": "code",
   "execution_count": null,
   "metadata": {},
   "outputs": [],
   "source": [
    "# Código..."
   ]
  },
  {
   "cell_type": "markdown",
   "metadata": {},
   "source": [
    "---"
   ]
  },
  {
   "cell_type": "markdown",
   "metadata": {},
   "source": [
    "    CNN (_Convolutional Neural Network_)"
   ]
  },
  {
   "cell_type": "code",
   "execution_count": null,
   "metadata": {},
   "outputs": [],
   "source": [
    "import tensorflow as tf\n",
    "import keras\n",
    "from keras import layers"
   ]
  },
  {
   "cell_type": "code",
   "execution_count": null,
   "metadata": {},
   "outputs": [],
   "source": [
    "# Utilize a base de dados `CIFAR10` do link: https://www.tensorflow.org/tutorials/images/cnn?hl=pt-br\n",
    "\n",
    "# Carregamento da base de dados..."
   ]
  },
  {
   "cell_type": "code",
   "execution_count": null,
   "metadata": {},
   "outputs": [],
   "source": [
    "# Código..."
   ]
  },
  {
   "cell_type": "markdown",
   "metadata": {},
   "source": [
    "---\n",
    "---"
   ]
  },
  {
   "cell_type": "markdown",
   "metadata": {},
   "source": [
    "\n",
    "## Fim do TP! "
   ]
  }
 ],
 "metadata": {
  "kernelspec": {
   "display_name": "Python 3",
   "language": "python",
   "name": "python3"
  },
  "language_info": {
   "codemirror_mode": {
    "name": "ipython",
    "version": 3
   },
   "file_extension": ".py",
   "mimetype": "text/x-python",
   "name": "python",
   "nbconvert_exporter": "python",
   "pygments_lexer": "ipython3",
   "version": "3.10.6"
  },
  "orig_nbformat": 4
 },
 "nbformat": 4,
 "nbformat_minor": 2
}
